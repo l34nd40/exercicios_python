{
  "nbformat": 4,
  "nbformat_minor": 0,
  "metadata": {
    "colab": {
      "provenance": [],
      "authorship_tag": "ABX9TyMV8GgA6C8QfIZ9uDQXzP18",
      "include_colab_link": true
    },
    "kernelspec": {
      "name": "python3",
      "display_name": "Python 3"
    },
    "language_info": {
      "name": "python"
    }
  },
  "cells": [
    {
      "cell_type": "markdown",
      "metadata": {
        "id": "view-in-github",
        "colab_type": "text"
      },
      "source": [
        "<a href=\"https://colab.research.google.com/github/l34nd40/exercicios_python/blob/main/Exercicios_python.ipynb\" target=\"_parent\"><img src=\"https://colab.research.google.com/assets/colab-badge.svg\" alt=\"Open In Colab\"/></a>"
      ]
    },
    {
      "cell_type": "code",
      "execution_count": 7,
      "metadata": {
        "colab": {
          "base_uri": "https://localhost:8080/"
        },
        "id": "YP-zK7KmTwFc",
        "outputId": "5b470550-69d4-4ed5-e022-32433a619ea7"
      },
      "outputs": [
        {
          "output_type": "stream",
          "name": "stdout",
          "text": [
            "informe as quatro notas\n",
            "nota 1: 10\n",
            "nota 2: 9\n",
            "nota 3: 7\n",
            "nota 4: 8\n",
            "A média e: 8.5\n"
          ]
        }
      ],
      "source": [
        "#print(\"Olá Mundo\")\n",
        "\n",
        "#num = input(\"Informe um número: \")\n",
        "\n",
        "#print(\"o número informado foi \"+str(num))\n",
        "\n",
        "#3\n",
        "#num1 = input(\"informe um número: \")\n",
        "#num2 = input(\"informe outro número: \")\n",
        "#soma = int(num1)+int(num2)\n",
        "#print(soma)\n",
        "\n",
        "\n",
        "#4\n",
        "#print(\"informe as quatro notas\")\n",
        "#nota1 = int(input(\"nota 1: \"))\n",
        "#nota2 = int(input(\"nota 2: \"))\n",
        "#nota3 = int(input(\"nota 3: \"))\n",
        "#nota4 = int(input(\"nota 4: \"))\n",
        "\n",
        "#media = (nota1+nota2+nota3+nota4)/4\n",
        "#print(\"A média e: \"+str(media))\n",
        "\n",
        "#5\n",
        "\n"
      ]
    }
  ]
}